{
  "nbformat": 4,
  "nbformat_minor": 0,
  "metadata": {
    "colab": {
      "provenance": [],
      "toc_visible": true,
      "authorship_tag": "ABX9TyMtsAqz6KYl50uEX4VUP6iM",
      "include_colab_link": true
    },
    "kernelspec": {
      "name": "python3",
      "display_name": "Python 3"
    },
    "language_info": {
      "name": "python"
    }
  },
  "cells": [
    {
      "cell_type": "markdown",
      "metadata": {
        "id": "view-in-github",
        "colab_type": "text"
      },
      "source": [
        "<a href=\"https://colab.research.google.com/github/kabbas942/PythonMiniProjects/blob/main/Python%20Practice.ipynb\" target=\"_parent\"><img src=\"https://colab.research.google.com/assets/colab-badge.svg\" alt=\"Open In Colab\"/></a>"
      ]
    },
    {
      "cell_type": "markdown",
      "source": [
        "### 1.\tWrite a program to find all permutations of a string and store them in a list."
      ],
      "metadata": {
        "id": "ih84G2IhDpnv"
      }
    },
    {
      "cell_type": "code",
      "source": [],
      "metadata": {
        "id": "AMEWiHNiD_aZ"
      },
      "execution_count": null,
      "outputs": []
    }
  ]
}